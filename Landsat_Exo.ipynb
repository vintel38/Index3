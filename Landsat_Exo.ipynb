{
 "cells": [
  {
   "cell_type": "markdown",
   "id": "suspected-arizona",
   "metadata": {},
   "source": [
    "# Section 5 : Multispectral Remote Sensing Data in Python\n",
    "## Chapter 9 : Landsat Exercises\n",
    "\n",
    "[![Foo](https://www.colorado.edu/brand/sites/default/files/styles/medium/public/page/boulder-one-line_0.png)](https://www.earthdatascience.org/courses/use-data-open-source-python/multispectral-remote-sensing/)"
   ]
  },
  {
   "cell_type": "markdown",
   "id": "liberal-peter",
   "metadata": {},
   "source": [
    "Pour ce dernier notebook dédié spécifiquement aux données Landsat, quelques exercices s'imposent pour vérifier que les notions ont bien été assimilées. De façon assez simpliste, les deux prochaines questions concernent le recadrage et l'affichage d'un cliché satellite de Cold Springs différent de ceux que l'on a pu voir par le passé. Ce notebook vise donc à importer, recadrer et afficher une carte de Cold Springs avant les incendies de 2016."
   ]
  },
  {
   "cell_type": "code",
   "execution_count": 1,
   "id": "postal-british",
   "metadata": {},
   "outputs": [],
   "source": [
    "import os\n",
    "from glob import glob\n",
    "\n",
    "import matplotlib.pyplot as plt\n",
    "import geopandas as gpd\n",
    "import rioxarray as rxr\n",
    "import xarray as xr\n",
    "from shapely.geometry import mapping\n",
    "import numpy as np\n",
    "import numpy.ma as ma\n",
    "import earthpy as et\n",
    "import earthpy.spatial as es\n",
    "import earthpy.plot as ep\n",
    "\n",
    "\n",
    "# Download data and set working directory\n",
    "data = et.data.get_data('cold-springs-fire')\n",
    "os.chdir(os.path.join(et.io.HOME, 'earth-analytics', 'data'))\n"
   ]
  },
  {
   "cell_type": "code",
   "execution_count": null,
   "id": "proprietary-greensboro",
   "metadata": {},
   "outputs": [],
   "source": []
  }
 ],
 "metadata": {
  "kernelspec": {
   "display_name": "Python 3",
   "language": "python",
   "name": "python3"
  },
  "language_info": {
   "codemirror_mode": {
    "name": "ipython",
    "version": 3
   },
   "file_extension": ".py",
   "mimetype": "text/x-python",
   "name": "python",
   "nbconvert_exporter": "python",
   "pygments_lexer": "ipython3",
   "version": "3.6.12"
  }
 },
 "nbformat": 4,
 "nbformat_minor": 5
}
