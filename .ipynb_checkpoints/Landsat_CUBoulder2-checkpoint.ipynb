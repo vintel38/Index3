{
 "cells": [
  {
   "cell_type": "markdown",
   "id": "ordered-consideration",
   "metadata": {},
   "source": [
    "# Section 5 : Multispectral Remote Sensing Data in Python - Chapter 9 : Open and crop Landsat Data \n",
    "## Free Open Online Course provided by Earth Lab of Colorado University Boulder \n",
    "\n",
    "[![Foo](https://www.colorado.edu/brand/sites/default/files/styles/medium/public/page/boulder-one-line_0.png)](https://www.earthdatascience.org/courses/use-data-open-source-python/multispectral-remote-sensing/)\n"
   ]
  },
  {
   "cell_type": "markdown",
   "id": "direct-italian",
   "metadata": {},
   "source": [
    "De la même manière que pour la prise en main des images Landsat, on commence par importer les packages nécessaires au traitement de données. Les plus importants sont `xarray` et `rioxarray` qui permettent de manipuler facilement des tableaux multidimensionnels de données et `earth` qui permet de travailler plus facilement avec des données géospatiales. "
   ]
  },
  {
   "cell_type": "code",
   "execution_count": 1,
   "id": "compound-caribbean",
   "metadata": {},
   "outputs": [],
   "source": [
    "import os\n",
    "from glob import glob   # finds all the pathnames matching a specified pattern according to the rules used by the Unix shell, \n",
    "                        # although results are returned in arbitrary order\n",
    "\n",
    "import matplotlib.pyplot as plt\n",
    "import numpy as np\n",
    "import geopandas as gpd # extends the datatypes used by pandas to allow spatial operations on geometric types\n",
    "import xarray as xr     #  introduces labels in the form of dimensions, coordinates and attributes on top of raw NumPy-like arrays \n",
    "                        # to work simply with labelled multidim array \n",
    "\n",
    "import rioxarray as rxr # rasterio xarray extension.\n",
    "import earthpy as et    # A set of helper functions to make working with spatial data in open source tools easier.\n",
    "import earthpy.spatial as es\n",
    "import earthpy.plot as ep\n",
    "from shapely.geometry import mapping\n",
    "\n",
    "# Set working directory\n",
    "os.chdir(os.path.join(et.io.HOME,\"earth-analytics\",\"data\"))"
   ]
  },
  {
   "cell_type": "code",
   "execution_count": 2,
   "id": "exceptional-watts",
   "metadata": {},
   "outputs": [],
   "source": [
    "# Get list of all pre-cropped data and sort the data\n",
    "\n",
    "def combine_tifs(tif_list):\n",
    "    out_xr=[]\n",
    "    for i, tif_path in enumerate(tif_list):\n",
    "        out_xr.append(rxr.open_rasterio(tif_path, masked=True).squeeze())\n",
    "        out_xr[i][\"band\"]=i+1\n",
    "    return xr.concat(out_xr, dim=\"band\")\n",
    "\n",
    "# Create the path to your data\n",
    "landsat_post_fire_path = os.path.join(\"cold-springs-fire\",\"landsat_collect\",\"LC080340322016072301T1-SC20180214145802\",\"crop\")\n",
    "\n",
    "# Generate a list of jtif files\n",
    "post_fire_tifs_list = glob(os.path.join(landsat_post_fire_path,\"*band*.tif\")) \n",
    "\n",
    "# Sort the data to ensure bands are in the correct order\n",
    "post_fire_tifs_list.sort()\n",
    "\n",
    "# Open all bands\n",
    "landsat_post_xr = combine_tifs(post_fire_tifs_list)"
   ]
  },
  {
   "cell_type": "code",
   "execution_count": 5,
   "id": "scientific-opinion",
   "metadata": {},
   "outputs": [
    {
     "ename": "CRSError",
     "evalue": "The EPSG code is unknown. EPSG PCS/GCS code 25 not found in EPSG support files.  Is this a valid EPSG coordinate system?",
     "output_type": "error",
     "traceback": [
      "\u001b[1;31m---------------------------------------------------------------------------\u001b[0m",
      "\u001b[1;31mCPLE_NotSupportedError\u001b[0m                    Traceback (most recent call last)",
      "\u001b[1;32mrasterio\\_crs.pyx\u001b[0m in \u001b[0;36mrasterio._crs._CRS.from_epsg\u001b[1;34m()\u001b[0m\n",
      "\u001b[1;32mrasterio\\_err.pyx\u001b[0m in \u001b[0;36mrasterio._err.exc_wrap_int\u001b[1;34m()\u001b[0m\n",
      "\u001b[1;31mCPLE_NotSupportedError\u001b[0m: EPSG PCS/GCS code 25 not found in EPSG support files.  Is this a valid EPSG coordinate system?",
      "\nDuring handling of the above exception, another exception occurred:\n",
      "\u001b[1;31mCRSError\u001b[0m                                  Traceback (most recent call last)",
      "\u001b[1;32m<ipython-input-5-b185005d9a38>\u001b[0m in \u001b[0;36m<module>\u001b[1;34m\u001b[0m\n\u001b[0;32m     11\u001b[0m \u001b[0mfire_boundary_utmz13\u001b[0m \u001b[1;33m=\u001b[0m \u001b[0mfire_boundary\u001b[0m\u001b[1;33m.\u001b[0m\u001b[0mto_crs\u001b[0m\u001b[1;33m(\u001b[0m\u001b[0mlandsat_post_xr\u001b[0m\u001b[1;33m.\u001b[0m\u001b[0mrio\u001b[0m\u001b[1;33m.\u001b[0m\u001b[0mcrs\u001b[0m\u001b[1;33m)\u001b[0m\u001b[1;33m\u001b[0m\u001b[1;33m\u001b[0m\u001b[0m\n\u001b[0;32m     12\u001b[0m \u001b[1;31m# Clip the data\u001b[0m\u001b[1;33m\u001b[0m\u001b[1;33m\u001b[0m\u001b[1;33m\u001b[0m\u001b[0m\n\u001b[1;32m---> 13\u001b[1;33m \u001b[0mlandsat_post_xr_clip\u001b[0m \u001b[1;33m=\u001b[0m \u001b[0mlandsat_post_xr\u001b[0m\u001b[1;33m.\u001b[0m\u001b[0mrio\u001b[0m\u001b[1;33m.\u001b[0m\u001b[0mclip\u001b[0m\u001b[1;33m(\u001b[0m\u001b[0mfire_boundary_utmz13\u001b[0m\u001b[1;33m.\u001b[0m\u001b[0mgeometry\u001b[0m\u001b[1;33m.\u001b[0m\u001b[0mapply\u001b[0m\u001b[1;33m(\u001b[0m\u001b[0mmapping\u001b[0m\u001b[1;33m)\u001b[0m\u001b[1;33m,\u001b[0m \u001b[0mcrs\u001b[0m\u001b[1;33m=\u001b[0m\u001b[1;36m25\u001b[0m\u001b[1;33m)\u001b[0m\u001b[1;33m\u001b[0m\u001b[1;33m\u001b[0m\u001b[0m\n\u001b[0m\u001b[0;32m     14\u001b[0m \u001b[1;33m\u001b[0m\u001b[0m\n\u001b[0;32m     15\u001b[0m \u001b[1;31m# Notice the x and y data dimensions have changed\u001b[0m\u001b[1;33m\u001b[0m\u001b[1;33m\u001b[0m\u001b[1;33m\u001b[0m\u001b[0m\n",
      "\u001b[1;32m~\\anaconda3\\envs\\tf_cpu\\lib\\site-packages\\rioxarray\\rioxarray.py\u001b[0m in \u001b[0;36mclip\u001b[1;34m(self, geometries, crs, all_touched, drop, invert)\u001b[0m\n\u001b[0;32m   1035\u001b[0m         geometries = [\n\u001b[0;32m   1036\u001b[0m             \u001b[0mrasterio\u001b[0m\u001b[1;33m.\u001b[0m\u001b[0mwarp\u001b[0m\u001b[1;33m.\u001b[0m\u001b[0mtransform_geom\u001b[0m\u001b[1;33m(\u001b[0m\u001b[0mCRS\u001b[0m\u001b[1;33m.\u001b[0m\u001b[0mfrom_user_input\u001b[0m\u001b[1;33m(\u001b[0m\u001b[0mcrs\u001b[0m\u001b[1;33m)\u001b[0m\u001b[1;33m,\u001b[0m \u001b[0mself\u001b[0m\u001b[1;33m.\u001b[0m\u001b[0mcrs\u001b[0m\u001b[1;33m,\u001b[0m \u001b[0mgeometry\u001b[0m\u001b[1;33m)\u001b[0m\u001b[1;33m\u001b[0m\u001b[1;33m\u001b[0m\u001b[0m\n\u001b[1;32m-> 1037\u001b[1;33m             \u001b[1;32mfor\u001b[0m \u001b[0mgeometry\u001b[0m \u001b[1;32min\u001b[0m \u001b[0mgeometries\u001b[0m\u001b[1;33m\u001b[0m\u001b[1;33m\u001b[0m\u001b[0m\n\u001b[0m\u001b[0;32m   1038\u001b[0m         ]\n\u001b[0;32m   1039\u001b[0m \u001b[1;33m\u001b[0m\u001b[0m\n",
      "\u001b[1;32m~\\anaconda3\\envs\\tf_cpu\\lib\\site-packages\\rioxarray\\rioxarray.py\u001b[0m in \u001b[0;36m<listcomp>\u001b[1;34m(.0)\u001b[0m\n\u001b[0;32m   1035\u001b[0m         geometries = [\n\u001b[0;32m   1036\u001b[0m             \u001b[0mrasterio\u001b[0m\u001b[1;33m.\u001b[0m\u001b[0mwarp\u001b[0m\u001b[1;33m.\u001b[0m\u001b[0mtransform_geom\u001b[0m\u001b[1;33m(\u001b[0m\u001b[0mCRS\u001b[0m\u001b[1;33m.\u001b[0m\u001b[0mfrom_user_input\u001b[0m\u001b[1;33m(\u001b[0m\u001b[0mcrs\u001b[0m\u001b[1;33m)\u001b[0m\u001b[1;33m,\u001b[0m \u001b[0mself\u001b[0m\u001b[1;33m.\u001b[0m\u001b[0mcrs\u001b[0m\u001b[1;33m,\u001b[0m \u001b[0mgeometry\u001b[0m\u001b[1;33m)\u001b[0m\u001b[1;33m\u001b[0m\u001b[1;33m\u001b[0m\u001b[0m\n\u001b[1;32m-> 1037\u001b[1;33m             \u001b[1;32mfor\u001b[0m \u001b[0mgeometry\u001b[0m \u001b[1;32min\u001b[0m \u001b[0mgeometries\u001b[0m\u001b[1;33m\u001b[0m\u001b[1;33m\u001b[0m\u001b[0m\n\u001b[0m\u001b[0;32m   1038\u001b[0m         ]\n\u001b[0;32m   1039\u001b[0m \u001b[1;33m\u001b[0m\u001b[0m\n",
      "\u001b[1;32m~\\anaconda3\\envs\\tf_cpu\\lib\\site-packages\\rasterio\\crs.py\u001b[0m in \u001b[0;36mfrom_user_input\u001b[1;34m(cls, value, morph_from_esri_dialect)\u001b[0m\n\u001b[0;32m    427\u001b[0m             \u001b[1;32mreturn\u001b[0m \u001b[0mvalue\u001b[0m\u001b[1;33m\u001b[0m\u001b[1;33m\u001b[0m\u001b[0m\n\u001b[0;32m    428\u001b[0m         \u001b[1;32melif\u001b[0m \u001b[0misinstance\u001b[0m\u001b[1;33m(\u001b[0m\u001b[0mvalue\u001b[0m\u001b[1;33m,\u001b[0m \u001b[0mint\u001b[0m\u001b[1;33m)\u001b[0m\u001b[1;33m:\u001b[0m\u001b[1;33m\u001b[0m\u001b[1;33m\u001b[0m\u001b[0m\n\u001b[1;32m--> 429\u001b[1;33m             \u001b[1;32mreturn\u001b[0m \u001b[0mcls\u001b[0m\u001b[1;33m.\u001b[0m\u001b[0mfrom_epsg\u001b[0m\u001b[1;33m(\u001b[0m\u001b[0mvalue\u001b[0m\u001b[1;33m)\u001b[0m\u001b[1;33m\u001b[0m\u001b[1;33m\u001b[0m\u001b[0m\n\u001b[0m\u001b[0;32m    430\u001b[0m         \u001b[1;32melif\u001b[0m \u001b[0misinstance\u001b[0m\u001b[1;33m(\u001b[0m\u001b[0mvalue\u001b[0m\u001b[1;33m,\u001b[0m \u001b[0mdict\u001b[0m\u001b[1;33m)\u001b[0m\u001b[1;33m:\u001b[0m\u001b[1;33m\u001b[0m\u001b[1;33m\u001b[0m\u001b[0m\n\u001b[0;32m    431\u001b[0m             \u001b[1;32mreturn\u001b[0m \u001b[0mcls\u001b[0m\u001b[1;33m(\u001b[0m\u001b[1;33m**\u001b[0m\u001b[0mvalue\u001b[0m\u001b[1;33m)\u001b[0m\u001b[1;33m\u001b[0m\u001b[1;33m\u001b[0m\u001b[0m\n",
      "\u001b[1;32m~\\anaconda3\\envs\\tf_cpu\\lib\\site-packages\\rasterio\\crs.py\u001b[0m in \u001b[0;36mfrom_epsg\u001b[1;34m(cls, code)\u001b[0m\n\u001b[0;32m    299\u001b[0m         \"\"\"\n\u001b[0;32m    300\u001b[0m         \u001b[0mobj\u001b[0m \u001b[1;33m=\u001b[0m \u001b[0mcls\u001b[0m\u001b[1;33m(\u001b[0m\u001b[1;33m)\u001b[0m\u001b[1;33m\u001b[0m\u001b[1;33m\u001b[0m\u001b[0m\n\u001b[1;32m--> 301\u001b[1;33m         \u001b[0mobj\u001b[0m\u001b[1;33m.\u001b[0m\u001b[0m_crs\u001b[0m \u001b[1;33m=\u001b[0m \u001b[0m_CRS\u001b[0m\u001b[1;33m.\u001b[0m\u001b[0mfrom_epsg\u001b[0m\u001b[1;33m(\u001b[0m\u001b[0mcode\u001b[0m\u001b[1;33m)\u001b[0m\u001b[1;33m\u001b[0m\u001b[1;33m\u001b[0m\u001b[0m\n\u001b[0m\u001b[0;32m    302\u001b[0m         \u001b[1;32mreturn\u001b[0m \u001b[0mobj\u001b[0m\u001b[1;33m\u001b[0m\u001b[1;33m\u001b[0m\u001b[0m\n\u001b[0;32m    303\u001b[0m \u001b[1;33m\u001b[0m\u001b[0m\n",
      "\u001b[1;32mrasterio\\_crs.pyx\u001b[0m in \u001b[0;36mrasterio._crs._CRS.from_epsg\u001b[1;34m()\u001b[0m\n",
      "\u001b[1;31mCRSError\u001b[0m: The EPSG code is unknown. EPSG PCS/GCS code 25 not found in EPSG support files.  Is this a valid EPSG coordinate system?"
     ]
    }
   ],
   "source": [
    "# Open up boundary extent in GeoPandas\n",
    "fire_boundary_path = os.path.join(\"cold-springs-fire\",\n",
    "                                  \"vector_layers\",\n",
    "                                  \"fire-boundary-geomac\",\n",
    "                                  \"co_cold_springs_20160711_2200_dd83.shp\")\n",
    "\n",
    "fire_boundary = gpd.read_file(fire_boundary_path)\n",
    "\n",
    "\n",
    "# Reproject data to CRS of raster data\n",
    "fire_boundary_utmz13 = fire_boundary.to_crs(landsat_post_xr.rio.crs)\n",
    "# Clip the data\n",
    "landsat_post_xr_clip = landsat_post_xr.rio.clip(fire_boundary_utmz13.geometry.apply(mapping), crs=25)\n",
    "\n",
    "# Notice the x and y data dimensions have changed\n",
    "landsat_post_xr_clip"
   ]
  },
  {
   "cell_type": "code",
   "execution_count": 16,
   "id": "senior-queue",
   "metadata": {},
   "outputs": [
    {
     "data": {
      "text/html": [
       "<div>\n",
       "<style scoped>\n",
       "    .dataframe tbody tr th:only-of-type {\n",
       "        vertical-align: middle;\n",
       "    }\n",
       "\n",
       "    .dataframe tbody tr th {\n",
       "        vertical-align: top;\n",
       "    }\n",
       "\n",
       "    .dataframe thead th {\n",
       "        text-align: right;\n",
       "    }\n",
       "</style>\n",
       "<table border=\"1\" class=\"dataframe\">\n",
       "  <thead>\n",
       "    <tr style=\"text-align: right;\">\n",
       "      <th></th>\n",
       "      <th>irwinid</th>\n",
       "      <th>mapmethod</th>\n",
       "      <th>unitIDProt</th>\n",
       "      <th>unitIDOwn</th>\n",
       "      <th>incidentID</th>\n",
       "      <th>fireName</th>\n",
       "      <th>perDatTime</th>\n",
       "      <th>comments</th>\n",
       "      <th>agency</th>\n",
       "      <th>active</th>\n",
       "      <th>...</th>\n",
       "      <th>dateCrnt</th>\n",
       "      <th>inciwebId</th>\n",
       "      <th>firecode</th>\n",
       "      <th>compfirecd</th>\n",
       "      <th>fireNum</th>\n",
       "      <th>ComplexNm</th>\n",
       "      <th>state</th>\n",
       "      <th>inComplex</th>\n",
       "      <th>GISACRES</th>\n",
       "      <th>geometry</th>\n",
       "    </tr>\n",
       "  </thead>\n",
       "  <tbody>\n",
       "    <tr>\n",
       "      <th>0</th>\n",
       "      <td>{221C1B99-D2FE-4ABE-9EF1-31225B812DCD}</td>\n",
       "      <td>Infrared Image</td>\n",
       "      <td>COBLX</td>\n",
       "      <td>COBLX</td>\n",
       "      <td>2016-COBLX-000457</td>\n",
       "      <td>Cold Springs</td>\n",
       "      <td>7/11/2016 10:00:00 PM</td>\n",
       "      <td>IR heat perimeter</td>\n",
       "      <td>C&amp;L</td>\n",
       "      <td>Y</td>\n",
       "      <td>...</td>\n",
       "      <td>2016-07-12</td>\n",
       "      <td>None</td>\n",
       "      <td>KE31</td>\n",
       "      <td>None</td>\n",
       "      <td>000457</td>\n",
       "      <td>None</td>\n",
       "      <td>CO</td>\n",
       "      <td>N</td>\n",
       "      <td>568.27</td>\n",
       "      <td>MULTIPOLYGON (((-105.45747 39.98212, -105.4573...</td>\n",
       "    </tr>\n",
       "  </tbody>\n",
       "</table>\n",
       "<p>1 rows × 22 columns</p>\n",
       "</div>"
      ],
      "text/plain": [
       "                                  irwinid       mapmethod unitIDProt  \\\n",
       "0  {221C1B99-D2FE-4ABE-9EF1-31225B812DCD}  Infrared Image      COBLX   \n",
       "\n",
       "  unitIDOwn         incidentID      fireName             perDatTime  \\\n",
       "0     COBLX  2016-COBLX-000457  Cold Springs  7/11/2016 10:00:00 PM   \n",
       "\n",
       "            comments agency active  ...    dateCrnt inciwebId firecode  \\\n",
       "0  IR heat perimeter    C&L      Y  ...  2016-07-12      None     KE31   \n",
       "\n",
       "  compfirecd fireNum ComplexNm state inComplex GISACRES  \\\n",
       "0       None  000457      None    CO         N   568.27   \n",
       "\n",
       "                                            geometry  \n",
       "0  MULTIPOLYGON (((-105.45747 39.98212, -105.4573...  \n",
       "\n",
       "[1 rows x 22 columns]"
      ]
     },
     "execution_count": 16,
     "metadata": {},
     "output_type": "execute_result"
    }
   ],
   "source": [
    "fire_boundary#['geometry']"
   ]
  },
  {
   "cell_type": "code",
   "execution_count": 23,
   "id": "loved-filing",
   "metadata": {},
   "outputs": [
    {
     "data": {
      "text/plain": [
       "0    {'type': 'MultiPolygon', 'coordinates': [(((46...\n",
       "Name: geometry, dtype: object"
      ]
     },
     "execution_count": 23,
     "metadata": {},
     "output_type": "execute_result"
    }
   ],
   "source": [
    "fire_boundary_utmz13.geometry.apply(mapping)"
   ]
  },
  {
   "cell_type": "code",
   "execution_count": null,
   "id": "eligible-exchange",
   "metadata": {},
   "outputs": [],
   "source": []
  }
 ],
 "metadata": {
  "kernelspec": {
   "display_name": "Python 3",
   "language": "python",
   "name": "python3"
  },
  "language_info": {
   "codemirror_mode": {
    "name": "ipython",
    "version": 3
   },
   "file_extension": ".py",
   "mimetype": "text/x-python",
   "name": "python",
   "nbconvert_exporter": "python",
   "pygments_lexer": "ipython3",
   "version": "3.6.12"
  }
 },
 "nbformat": 4,
 "nbformat_minor": 5
}
